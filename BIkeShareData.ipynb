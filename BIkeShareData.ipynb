{
 "cells": [
  {
   "cell_type": "code",
   "execution_count": 19,
   "metadata": {},
   "outputs": [
    {
     "name": "stdout",
     "output_type": "stream",
     "text": [
      "     instant      dteday  season  yr  mnth  holiday  weekday  workingday  \\\n",
      "0          1  2011-01-01       1   0     1        0        6           0   \n",
      "1          2  2011-01-02       1   0     1        0        0           0   \n",
      "2          3  2011-01-03       1   0     1        0        1           1   \n",
      "3          4  2011-01-04       1   0     1        0        2           1   \n",
      "4          5  2011-01-05       1   0     1        0        3           1   \n",
      "..       ...         ...     ...  ..   ...      ...      ...         ...   \n",
      "726      727  2012-12-27       1   1    12        0        4           1   \n",
      "727      728  2012-12-28       1   1    12        0        5           1   \n",
      "728      729  2012-12-29       1   1    12        0        6           0   \n",
      "729      730  2012-12-30       1   1    12        0        0           0   \n",
      "730      731  2012-12-31       1   1    12        0        1           1   \n",
      "\n",
      "     weathersit      temp     atemp       hum  windspeed  casual  registered  \\\n",
      "0             2  0.344167  0.363625  0.805833   0.160446     331         654   \n",
      "1             2  0.363478  0.353739  0.696087   0.248539     131         670   \n",
      "2             1  0.196364  0.189405  0.437273   0.248309     120        1229   \n",
      "3             1  0.200000  0.212122  0.590435   0.160296     108        1454   \n",
      "4             1  0.226957  0.229270  0.436957   0.186900      82        1518   \n",
      "..          ...       ...       ...       ...        ...     ...         ...   \n",
      "726           2  0.254167  0.226642  0.652917   0.350133     247        1867   \n",
      "727           2  0.253333  0.255046  0.590000   0.155471     644        2451   \n",
      "728           2  0.253333  0.242400  0.752917   0.124383     159        1182   \n",
      "729           1  0.255833  0.231700  0.483333   0.350754     364        1432   \n",
      "730           2  0.215833  0.223487  0.577500   0.154846     439        2290   \n",
      "\n",
      "      cnt  \n",
      "0     985  \n",
      "1     801  \n",
      "2    1349  \n",
      "3    1562  \n",
      "4    1600  \n",
      "..    ...  \n",
      "726  2114  \n",
      "727  3095  \n",
      "728  1341  \n",
      "729  1796  \n",
      "730  2729  \n",
      "\n",
      "[731 rows x 16 columns]\n",
      "       instant      dteday  season  yr  mnth  hr  holiday  weekday  \\\n",
      "0            1  2011-01-01       1   0     1   0        0        6   \n",
      "1            2  2011-01-01       1   0     1   1        0        6   \n",
      "2            3  2011-01-01       1   0     1   2        0        6   \n",
      "3            4  2011-01-01       1   0     1   3        0        6   \n",
      "4            5  2011-01-01       1   0     1   4        0        6   \n",
      "...        ...         ...     ...  ..   ...  ..      ...      ...   \n",
      "17374    17375  2012-12-31       1   1    12  19        0        1   \n",
      "17375    17376  2012-12-31       1   1    12  20        0        1   \n",
      "17376    17377  2012-12-31       1   1    12  21        0        1   \n",
      "17377    17378  2012-12-31       1   1    12  22        0        1   \n",
      "17378    17379  2012-12-31       1   1    12  23        0        1   \n",
      "\n",
      "       workingday  weathersit  temp   atemp   hum  windspeed  casual  \\\n",
      "0               0           1  0.24  0.2879  0.81     0.0000       3   \n",
      "1               0           1  0.22  0.2727  0.80     0.0000       8   \n",
      "2               0           1  0.22  0.2727  0.80     0.0000       5   \n",
      "3               0           1  0.24  0.2879  0.75     0.0000       3   \n",
      "4               0           1  0.24  0.2879  0.75     0.0000       0   \n",
      "...           ...         ...   ...     ...   ...        ...     ...   \n",
      "17374           1           2  0.26  0.2576  0.60     0.1642      11   \n",
      "17375           1           2  0.26  0.2576  0.60     0.1642       8   \n",
      "17376           1           1  0.26  0.2576  0.60     0.1642       7   \n",
      "17377           1           1  0.26  0.2727  0.56     0.1343      13   \n",
      "17378           1           1  0.26  0.2727  0.65     0.1343      12   \n",
      "\n",
      "       registered  cnt  \n",
      "0              13   16  \n",
      "1              32   40  \n",
      "2              27   32  \n",
      "3              10   13  \n",
      "4               1    1  \n",
      "...           ...  ...  \n",
      "17374         108  119  \n",
      "17375          81   89  \n",
      "17376          83   90  \n",
      "17377          48   61  \n",
      "17378          37   49  \n",
      "\n",
      "[17379 rows x 17 columns]\n"
     ]
    }
   ],
   "source": [
    "import pandas as pd\n",
    "import matplotlib.pyplot as plt\n",
    "import numpy as np\n",
    "\n",
    "BikeShareDayFrame=pd.read_csv('bikeShareDay.csv', delimiter=',')\n",
    "BikeShareHourFrame=pd.read_csv('bikeShareHour.csv', delimiter=',')\n",
    "print(BikeShareDayFrame)\n",
    "print(BikeShareHourFrame)"
   ]
  },
  {
   "cell_type": "code",
   "execution_count": null,
   "metadata": {},
   "outputs": [],
   "source": [
    "pd.DataFrame.max(BikeShareDayFrame)"
   ]
  },
  {
   "cell_type": "code",
   "execution_count": 25,
   "metadata": {},
   "outputs": [
    {
     "data": {
      "text/plain": [
       "instant              731\n",
       "dteday        2012-12-31\n",
       "season                 4\n",
       "yr                     1\n",
       "mnth                  12\n",
       "holiday                1\n",
       "weekday                6\n",
       "workingday             1\n",
       "weathersit             3\n",
       "temp            0.861667\n",
       "atemp           0.840896\n",
       "hum               0.9725\n",
       "windspeed       0.507463\n",
       "casual              3410\n",
       "registered          6946\n",
       "cnt                 8714\n",
       "dtype: object"
      ]
     },
     "execution_count": 25,
     "metadata": {},
     "output_type": "execute_result"
    }
   ],
   "source": [
    "pd.DataFrame.max(BikeShareHourFrame)"
   ]
  },
  {
   "cell_type": "code",
   "execution_count": null,
   "metadata": {},
   "outputs": [],
   "source": [
    "pd.DateFrame.min(BikeShareDayFrame)"
   ]
  },
  {
   "cell_type": "code",
   "execution_count": null,
   "metadata": {},
   "outputs": [],
   "source": [
    "pd.DateFrame.min(BikeShareHourFrame)"
   ]
  },
  {
   "cell_type": "code",
   "execution_count": null,
   "metadata": {},
   "outputs": [],
   "source": [
    "pd.DataFrame.mean(BikeShareDayFrame)"
   ]
  },
  {
   "cell_type": "code",
   "execution_count": null,
   "metadata": {},
   "outputs": [],
   "source": [
    "pd.DateFrame.mean(BikeShareHourFrame)"
   ]
  },
  {
   "cell_type": "code",
   "execution_count": null,
   "metadata": {},
   "outputs": [],
   "source": [
    "pd.DataFrame.median(BikeShareDayFrame)"
   ]
  },
  {
   "cell_type": "code",
   "execution_count": null,
   "metadata": {},
   "outputs": [],
   "source": [
    "pd.DateFrame.median(BikeShareHourFrame)"
   ]
  },
  {
   "cell_type": "code",
   "execution_count": null,
   "metadata": {},
   "outputs": [],
   "source": [
    "pd.figure()\n",
    "BikeShareDayFrame.hist(figsize(20, 20))\n",
    "plt.show()"
   ]
  },
  {
   "cell_type": "code",
   "execution_count": null,
   "metadata": {},
   "outputs": [],
   "source": [
    "pd.figure()\n",
    "BikeShareHourFrame.hist(figsize(20, 20))\n",
    "plt.show()"
   ]
  },
  {
   "cell_type": "code",
   "execution_count": null,
   "metadata": {},
   "outputs": [],
   "source": [
    "BikeShareDayFrame.plot(kind='box', subplots=True, layout=(4.4),\n",
    "                      sharex=False, sharey=False, figsize=(20,20))\n",
    "plt.show()"
   ]
  },
  {
   "cell_type": "code",
   "execution_count": null,
   "metadata": {},
   "outputs": [],
   "source": [
    "BikeShareHourFrame.plot(kind='box', subplots=True, layout=(4.4),\n",
    "                      sharex=False, sharey=False, figsize=(20,20))\n",
    "plt.show()"
   ]
  },
  {
   "cell_type": "code",
   "execution_count": 33,
   "metadata": {},
   "outputs": [
    {
     "data": {
      "image/png": "[encoded data removed]",
      "text/plain": [
       "<Figure size 792x648 with 2 Axes>"
      ]
     },
     "metadata": {
      "needs_background": "light"
     },
     "output_type": "display_data"
    }
   ],
   "source": [
    "import seaborn as sns\n",
    "correlations = BikeShareDayFrame.corr()\n",
    "\n",
    "f, ax = plt.subplots(figsize=(11, 9))\n",
    "\n",
    "sns.heatmap(correlations, cmap=('PuBu'), center=0, vmin=-1, vmax=1, square=True)\n",
    "\n",
    "b, t = plt.ylim()\n",
    "b += 0.5\n",
    "t -= 0.5\n",
    "plt.ylim(b, t)\n",
    "plt.show()"
   ]
  },
  {
   "cell_type": "code",
   "execution_count": 34,
   "metadata": {},
   "outputs": [
    {
     "data": {
      "image/png": "[encoded data removed]",
      "text/plain": [
       "<Figure size 792x648 with 2 Axes>"
      ]
     },
     "metadata": {
      "needs_background": "light"
     },
     "output_type": "display_data"
    }
   ],
   "source": [
    "import seaborn as sns\n",
    "correlations = BikeShareHourFrame.corr()\n",
    "\n",
    "f, ax = plt.subplots(figsize=(11, 9))\n",
    "\n",
    "sns.heatmap(correlations, cmap=('PuBu'), center=0, vmin=-1, vmax=1, square=True)\n",
    "\n",
    "b, t = plt.ylim()\n",
    "b += 0.5\n",
    "t -= 0.5\n",
    "plt.ylim(b, t)\n",
    "plt.show()"
   ]
  },
  {
   "cell_type": "code",
   "execution_count": 37,
   "metadata": {},
   "outputs": [
    {
     "ename": "KeyError",
     "evalue": "'RM'",
     "output_type": "error",
     "traceback": [
      "\u001b[0;31m---------------------------------------------------------------------------\u001b[0m",
      "\u001b[0;31mKeyError\u001b[0m                                  Traceback (most recent call last)",
      "\u001b[0;32m/opt/Anaconda3/lib/python3.7/site-packages/pandas/core/indexes/base.py\u001b[0m in \u001b[0;36mget_loc\u001b[0;34m(self, key, method, tolerance)\u001b[0m\n\u001b[1;32m   2896\u001b[0m             \u001b[0;32mtry\u001b[0m\u001b[0;34m:\u001b[0m\u001b[0;34m\u001b[0m\u001b[0;34m\u001b[0m\u001b[0m\n\u001b[0;32m-> 2897\u001b[0;31m                 \u001b[0;32mreturn\u001b[0m \u001b[0mself\u001b[0m\u001b[0;34m.\u001b[0m\u001b[0m_engine\u001b[0m\u001b[0;34m.\u001b[0m\u001b[0mget_loc\u001b[0m\u001b[0;34m(\u001b[0m\u001b[0mkey\u001b[0m\u001b[0;34m)\u001b[0m\u001b[0;34m\u001b[0m\u001b[0;34m\u001b[0m\u001b[0m\n\u001b[0m\u001b[1;32m   2898\u001b[0m             \u001b[0;32mexcept\u001b[0m \u001b[0mKeyError\u001b[0m\u001b[0;34m:\u001b[0m\u001b[0;34m\u001b[0m\u001b[0;34m\u001b[0m\u001b[0m\n",
      "\u001b[0;32mpandas/_libs/index.pyx\u001b[0m in \u001b[0;36mpandas._libs.index.IndexEngine.get_loc\u001b[0;34m()\u001b[0m\n",
      "\u001b[0;32mpandas/_libs/index.pyx\u001b[0m in \u001b[0;36mpandas._libs.index.IndexEngine.get_loc\u001b[0;34m()\u001b[0m\n",
      "\u001b[0;32mpandas/_libs/hashtable_class_helper.pxi\u001b[0m in \u001b[0;36mpandas._libs.hashtable.PyObjectHashTable.get_item\u001b[0;34m()\u001b[0m\n",
      "\u001b[0;32mpandas/_libs/hashtable_class_helper.pxi\u001b[0m in \u001b[0;36mpandas._libs.hashtable.PyObjectHashTable.get_item\u001b[0;34m()\u001b[0m\n",
      "\u001b[0;31mKeyError\u001b[0m: 'RM'",
      "\nDuring handling of the above exception, another exception occurred:\n",
      "\u001b[0;31mKeyError\u001b[0m                                  Traceback (most recent call last)",
      "\u001b[0;32m<ipython-input-37-f6e2f1f35822>\u001b[0m in \u001b[0;36m<module>\u001b[0;34m\u001b[0m\n\u001b[0;32m----> 1\u001b[0;31m \u001b[0mplt\u001b[0m\u001b[0;34m.\u001b[0m\u001b[0mscatter\u001b[0m\u001b[0;34m(\u001b[0m \u001b[0mBikeShareDayFrame\u001b[0m\u001b[0;34m[\u001b[0m\u001b[0;34m'RM'\u001b[0m\u001b[0;34m]\u001b[0m\u001b[0;34m,\u001b[0m \u001b[0mBikeShareDayFrame\u001b[0m\u001b[0;34m[\u001b[0m\u001b[0;34m'MEDV'\u001b[0m\u001b[0;34m]\u001b[0m\u001b[0;34m)\u001b[0m\u001b[0;34m\u001b[0m\u001b[0;34m\u001b[0m\u001b[0m\n\u001b[0m\u001b[1;32m      2\u001b[0m \u001b[0mplt\u001b[0m\u001b[0;34m.\u001b[0m\u001b[0mxlabel\u001b[0m\u001b[0;34m(\u001b[0m\u001b[0;34m'Average number of rooms per dwelling'\u001b[0m\u001b[0;34m)\u001b[0m\u001b[0;34m\u001b[0m\u001b[0;34m\u001b[0m\u001b[0m\n\u001b[1;32m      3\u001b[0m \u001b[0mplt\u001b[0m\u001b[0;34m.\u001b[0m\u001b[0mylabel\u001b[0m\u001b[0;34m(\u001b[0m\u001b[0;34m'Median value of owner-occupied homes in $1000s'\u001b[0m\u001b[0;34m)\u001b[0m\u001b[0;34m\u001b[0m\u001b[0;34m\u001b[0m\u001b[0m\n\u001b[1;32m      4\u001b[0m \u001b[0mplt\u001b[0m\u001b[0;34m.\u001b[0m\u001b[0mshow\u001b[0m\u001b[0;34m(\u001b[0m\u001b[0;34m)\u001b[0m\u001b[0;34m\u001b[0m\u001b[0;34m\u001b[0m\u001b[0m\n\u001b[1;32m      5\u001b[0m \u001b[0mplt\u001b[0m\u001b[0;34m.\u001b[0m\u001b[0mscatter\u001b[0m\u001b[0;34m(\u001b[0m \u001b[0mBikeShareDayFrame\u001b[0m\u001b[0;34m[\u001b[0m\u001b[0;34m'LSTAT'\u001b[0m\u001b[0;34m]\u001b[0m\u001b[0;34m,\u001b[0m \u001b[0mBikeShareDayFrame\u001b[0m\u001b[0;34m[\u001b[0m\u001b[0;34m'MEDV'\u001b[0m\u001b[0;34m]\u001b[0m\u001b[0;34m)\u001b[0m\u001b[0;34m\u001b[0m\u001b[0;34m\u001b[0m\u001b[0m\n",
      "\u001b[0;32m/opt/Anaconda3/lib/python3.7/site-packages/pandas/core/frame.py\u001b[0m in \u001b[0;36m__getitem__\u001b[0;34m(self, key)\u001b[0m\n\u001b[1;32m   2978\u001b[0m             \u001b[0;32mif\u001b[0m \u001b[0mself\u001b[0m\u001b[0;34m.\u001b[0m\u001b[0mcolumns\u001b[0m\u001b[0;34m.\u001b[0m\u001b[0mnlevels\u001b[0m \u001b[0;34m>\u001b[0m \u001b[0;36m1\u001b[0m\u001b[0;34m:\u001b[0m\u001b[0;34m\u001b[0m\u001b[0;34m\u001b[0m\u001b[0m\n\u001b[1;32m   2979\u001b[0m                 \u001b[0;32mreturn\u001b[0m \u001b[0mself\u001b[0m\u001b[0;34m.\u001b[0m\u001b[0m_getitem_multilevel\u001b[0m\u001b[0;34m(\u001b[0m\u001b[0mkey\u001b[0m\u001b[0;34m)\u001b[0m\u001b[0;34m\u001b[0m\u001b[0;34m\u001b[0m\u001b[0m\n\u001b[0;32m-> 2980\u001b[0;31m             \u001b[0mindexer\u001b[0m \u001b[0;34m=\u001b[0m \u001b[0mself\u001b[0m\u001b[0;34m.\u001b[0m\u001b[0mcolumns\u001b[0m\u001b[0;34m.\u001b[0m\u001b[0mget_loc\u001b[0m\u001b[0;34m(\u001b[0m\u001b[0mkey\u001b[0m\u001b[0;34m)\u001b[0m\u001b[0;34m\u001b[0m\u001b[0;34m\u001b[0m\u001b[0m\n\u001b[0m\u001b[1;32m   2981\u001b[0m             \u001b[0;32mif\u001b[0m \u001b[0mis_integer\u001b[0m\u001b[0;34m(\u001b[0m\u001b[0mindexer\u001b[0m\u001b[0;34m)\u001b[0m\u001b[0;34m:\u001b[0m\u001b[0;34m\u001b[0m\u001b[0;34m\u001b[0m\u001b[0m\n\u001b[1;32m   2982\u001b[0m                 \u001b[0mindexer\u001b[0m \u001b[0;34m=\u001b[0m \u001b[0;34m[\u001b[0m\u001b[0mindexer\u001b[0m\u001b[0;34m]\u001b[0m\u001b[0;34m\u001b[0m\u001b[0;34m\u001b[0m\u001b[0m\n",
      "\u001b[0;32m/opt/Anaconda3/lib/python3.7/site-packages/pandas/core/indexes/base.py\u001b[0m in \u001b[0;36mget_loc\u001b[0;34m(self, key, method, tolerance)\u001b[0m\n\u001b[1;32m   2897\u001b[0m                 \u001b[0;32mreturn\u001b[0m \u001b[0mself\u001b[0m\u001b[0;34m.\u001b[0m\u001b[0m_engine\u001b[0m\u001b[0;34m.\u001b[0m\u001b[0mget_loc\u001b[0m\u001b[0;34m(\u001b[0m\u001b[0mkey\u001b[0m\u001b[0;34m)\u001b[0m\u001b[0;34m\u001b[0m\u001b[0;34m\u001b[0m\u001b[0m\n\u001b[1;32m   2898\u001b[0m             \u001b[0;32mexcept\u001b[0m \u001b[0mKeyError\u001b[0m\u001b[0;34m:\u001b[0m\u001b[0;34m\u001b[0m\u001b[0;34m\u001b[0m\u001b[0m\n\u001b[0;32m-> 2899\u001b[0;31m                 \u001b[0;32mreturn\u001b[0m \u001b[0mself\u001b[0m\u001b[0;34m.\u001b[0m\u001b[0m_engine\u001b[0m\u001b[0;34m.\u001b[0m\u001b[0mget_loc\u001b[0m\u001b[0;34m(\u001b[0m\u001b[0mself\u001b[0m\u001b[0;34m.\u001b[0m\u001b[0m_maybe_cast_indexer\u001b[0m\u001b[0;34m(\u001b[0m\u001b[0mkey\u001b[0m\u001b[0;34m)\u001b[0m\u001b[0;34m)\u001b[0m\u001b[0;34m\u001b[0m\u001b[0;34m\u001b[0m\u001b[0m\n\u001b[0m\u001b[1;32m   2900\u001b[0m         \u001b[0mindexer\u001b[0m \u001b[0;34m=\u001b[0m \u001b[0mself\u001b[0m\u001b[0;34m.\u001b[0m\u001b[0mget_indexer\u001b[0m\u001b[0;34m(\u001b[0m\u001b[0;34m[\u001b[0m\u001b[0mkey\u001b[0m\u001b[0;34m]\u001b[0m\u001b[0;34m,\u001b[0m \u001b[0mmethod\u001b[0m\u001b[0;34m=\u001b[0m\u001b[0mmethod\u001b[0m\u001b[0;34m,\u001b[0m \u001b[0mtolerance\u001b[0m\u001b[0;34m=\u001b[0m\u001b[0mtolerance\u001b[0m\u001b[0;34m)\u001b[0m\u001b[0;34m\u001b[0m\u001b[0;34m\u001b[0m\u001b[0m\n\u001b[1;32m   2901\u001b[0m         \u001b[0;32mif\u001b[0m \u001b[0mindexer\u001b[0m\u001b[0;34m.\u001b[0m\u001b[0mndim\u001b[0m \u001b[0;34m>\u001b[0m \u001b[0;36m1\u001b[0m \u001b[0;32mor\u001b[0m \u001b[0mindexer\u001b[0m\u001b[0;34m.\u001b[0m\u001b[0msize\u001b[0m \u001b[0;34m>\u001b[0m \u001b[0;36m1\u001b[0m\u001b[0;34m:\u001b[0m\u001b[0;34m\u001b[0m\u001b[0;34m\u001b[0m\u001b[0m\n",
      "\u001b[0;32mpandas/_libs/index.pyx\u001b[0m in \u001b[0;36mpandas._libs.index.IndexEngine.get_loc\u001b[0;34m()\u001b[0m\n",
      "\u001b[0;32mpandas/_libs/index.pyx\u001b[0m in \u001b[0;36mpandas._libs.index.IndexEngine.get_loc\u001b[0;34m()\u001b[0m\n",
      "\u001b[0;32mpandas/_libs/hashtable_class_helper.pxi\u001b[0m in \u001b[0;36mpandas._libs.hashtable.PyObjectHashTable.get_item\u001b[0;34m()\u001b[0m\n",
      "\u001b[0;32mpandas/_libs/hashtable_class_helper.pxi\u001b[0m in \u001b[0;36mpandas._libs.hashtable.PyObjectHashTable.get_item\u001b[0;34m()\u001b[0m\n",
      "\u001b[0;31mKeyError\u001b[0m: 'RM'"
     ]
    }
   ],
   "source": [
    "plt.scatter( BikeShareDayFrame['RM'], BikeShareDayFrame['MEDV'])\n",
    "plt.xlabel('Average number of rooms per dwelling')\n",
    "plt.ylabel('Median value of owner-occupied homes in $1000s')\n",
    "plt.show()\n",
    "plt.scatter( BikeShareDayFrame['LSTAT'], BikeShareDayFrame['MEDV'])\n",
    "plt.xlabel('% lower status of the population')\n",
    "plt.ylabel('Median value of owner-occupied homes in $1000s')\n",
    "plt.show()"
   ]
  },
  {
   "cell_type": "code",
   "execution_count": null,
   "metadata": {},
   "outputs": [],
   "source": [
    "plt.scatter( BikeShareHourFrame['RM'], BikeShareHourFrame['MEDV'])\n",
    "plt.xlabel('Average number of rooms per dwelling')\n",
    "plt.ylabel('Median value of owner-occupied homes in $1000s')\n",
    "plt.show()\n",
    "plt.scatter( BikeShareHourFrame['LSTAT'], BikeShareHourFrame['MEDV'])\n",
    "plt.xlabel('% lower status of the population')\n",
    "plt.ylabel('Median value of owner-occupied homes in $1000s')\n",
    "plt.show()"
   ]
  }
 ],
 "metadata": {
  "kernelspec": {
   "display_name": "Python 3",
   "language": "python",
   "name": "python3"
  },
  "language_info": {
   "codemirror_mode": {
    "name": "ipython",
    "version": 3
   },
   "file_extension": ".py",
   "mimetype": "text/x-python",
   "name": "python",
   "nbconvert_exporter": "python",
   "pygments_lexer": "ipython3",
   "version": "3.7.4"
  }
 },
 "nbformat": 4,
 "nbformat_minor": 2
}
