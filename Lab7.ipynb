{
 "cells": [
  {
   "cell_type": "code",
   "execution_count": 1,
   "metadata": {},
   "outputs": [],
   "source": [
    "import pandas as pd\n",
    "import numpy as np\n",
    "import math"
   ]
  },
  {
   "cell_type": "code",
   "execution_count": 2,
   "metadata": {},
   "outputs": [],
   "source": [
    "sailData = pd.read_csv('s3://rmit-ml-2020s1-lab-data/symbolic/sailing-custom-python.tab',delim_whitespace=True)\n",
    "zooData = pd.read_csv('s3://rmit-ml-2020s1-lab-data/symbolic/zoo-python.tab',delim_whitespace=True)\n",
    "zooData = zooData.drop(columns='name')"
   ]
  },
  {
   "cell_type": "code",
   "execution_count": 3,
   "metadata": {},
   "outputs": [],
   "source": [
    "def entropy(data, target):\n",
    "    entropy_value = 0\n",
    "    counts = pd.value_counts(data[target])\n",
    "    for value in counts:\n",
    "        entropy_value -= value / data[target].size * math.log(value / data[target].size, 2)\n",
    "    return entropy_value"
   ]
  },
  {
   "cell_type": "code",
   "execution_count": 4,
   "metadata": {},
   "outputs": [
    {
     "name": "stdout",
     "output_type": "stream",
     "text": [
      "Entropy for Sail data:  0.9975025463691153\n",
      "Entropy for Zoo:  2.390559682294039\n"
     ]
    }
   ],
   "source": [
    "print('Entropy for Sail data: ', entropy(sailData, 'Sail'))\n",
    "print('Entropy for Zoo: ', entropy(zooData, 'type'))"
   ]
  },
  {
   "cell_type": "code",
   "execution_count": 5,
   "metadata": {},
   "outputs": [],
   "source": [
    "def majority_class(data, target):\n",
    "    majority = 0\n",
    "    class_name = 0\n",
    "    counts = pd.value_counts(data[target])\n",
    "    for value in range(counts.size):\n",
    "        if(counts[value] > majority):\n",
    "            majority = counts[value]\n",
    "            class_name = counts.axes[0][value]\n",
    "    return class_name"
   ]
  },
  {
   "cell_type": "code",
   "execution_count": 6,
   "metadata": {},
   "outputs": [
    {
     "name": "stdout",
     "output_type": "stream",
     "text": [
      "Majority for Sail data Target:  yes\n",
      "Majority for Zoo data Target:  mammal\n"
     ]
    }
   ],
   "source": [
    "print('Majority for Sail data Target: ', majority_class(sailData, 'Sail'))\n",
    "print('Majority for Zoo data Target: ', majority_class(zooData, 'type'))"
   ]
  },
  {
   "cell_type": "code",
   "execution_count": 7,
   "metadata": {},
   "outputs": [],
   "source": [
    "def simpler_rule_learner(data, target):\n",
    "    while(data.shape[0] > 0):\n",
    "        if(entropy(data, target) == 0):\n",
    "            print(\"otherwise =>\", majority_class(data, target))\n",
    "            data = data.iloc[0:0]\n",
    "        else:\n",
    "            best_entropy = entropy(data, target)\n",
    "            best_attribute = ''\n",
    "            best_value = ''\n",
    "            best_data = data\n",
    "            for attribute in data:\n",
    "                counts = pd.value_counts(data[attribute])\n",
    "                for value in counts.axes[0]:\n",
    "                    data2 = data.loc[data[attribute] == value];\n",
    "                    if entropy(data2, target) < best_entropy:\n",
    "                        best_entropy = entropy(data2, attribute)\n",
    "                        best_attribute = attribute\n",
    "                        best_value = value\n",
    "                        best_data = data2\n",
    "            print(best_attribute,\"=\",best_value,\"=>\",majority_class(best_data,target))\n",
    "            data = data.loc[data[best_attribute] != best_value]"
   ]
  },
  {
   "cell_type": "code",
   "execution_count": 8,
   "metadata": {},
   "outputs": [
    {
     "name": "stdout",
     "output_type": "stream",
     "text": [
      "Company = big => yes\n",
      "Outlook = rainy => no\n",
      "Company = med => yes\n",
      "Sailboat = big => no\n",
      "otherwise => yes\n"
     ]
    }
   ],
   "source": [
    "simpler_rule_learner(sailData, 'Sail')"
   ]
  },
  {
   "cell_type": "code",
   "execution_count": 9,
   "metadata": {},
   "outputs": [
    {
     "name": "stdout",
     "output_type": "stream",
     "text": [
      "legs = 8.0 => invertebrate\n",
      "legs = 5.0 => invertebrate\n",
      "feathers = Yes => bird\n",
      "legs = 2.0 => mammal\n",
      "airborne = Yes => insect\n",
      "milk = Yes => mammal\n",
      "domestic = Yes => fish\n",
      "eggs = No => reptile\n",
      "fins = Yes => fish\n",
      "breathes = No => invertebrate\n",
      "aquatic = Yes => amphibian\n",
      "legs = 4.0 => reptile\n",
      "legs = 6.0 => insect\n",
      "backbone = No => invertebrate\n",
      "otherwise => reptile\n"
     ]
    }
   ],
   "source": [
    "simpler_rule_learner(zooData, 'type')"
   ]
  },
  {
   "cell_type": "code",
   "execution_count": null,
   "metadata": {},
   "outputs": [],
   "source": []
  }
 ],
 "metadata": {
  "kernelspec": {
   "display_name": "conda_python3",
   "language": "python",
   "name": "conda_python3"
  },
  "language_info": {
   "codemirror_mode": {
    "name": "ipython",
    "version": 3
   },
   "file_extension": ".py",
   "mimetype": "text/x-python",
   "name": "python",
   "nbconvert_exporter": "python",
   "pygments_lexer": "ipython3",
   "version": "3.6.5"
  }
 },
 "nbformat": 4,
 "nbformat_minor": 4
}
