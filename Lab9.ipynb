{
 "cells": [
  {
   "cell_type": "code",
   "execution_count": 45,
   "metadata": {},
   "outputs": [],
   "source": [
    "import pandas as pd\n",
    "import matplotlib.pyplot as plt\n",
    "import numpy as np\n",
    "import sklearn as sk\n",
    "from sklearn import tree\n",
    "from sklearn import preprocessing\n",
    "from sklearn import metrics\n",
    "from sklearn import model_selection"
   ]
  },
  {
   "cell_type": "code",
   "execution_count": 46,
   "metadata": {},
   "outputs": [],
   "source": [
    "col_names = ['Id_number', 'Clump_Thickness', 'Uniformity_Cell_Size', 'Uniformity_Cell_Shape',\n",
    "'Marginal_Adhesion', 'Epithelial_Cell_Size', 'Bare_Nuclei', 'Bland_Chromatin',\n",
    "'Normal_Nucleoli', 'Mitoses', 'Class']\n",
    "data = pd.read_csv('s3://rmit-ml-2020s1-lab-data/UCI_data/breast-cancer-wisconsin.data', names=col_names)"
   ]
  },
  {
   "cell_type": "code",
   "execution_count": 47,
   "metadata": {},
   "outputs": [],
   "source": [
    "data1 = data.dropna()\n",
    "data2 = data.fillna(value = 0)"
   ]
  },
  {
   "cell_type": "code",
   "execution_count": 48,
   "metadata": {},
   "outputs": [],
   "source": [
    "from sklearn.impute import SimpleImputer\n",
    "imp_mean = SimpleImputer(missing_values=np.nan, strategy='mean')\n",
    "imp_mean = imp_mean.fit(data)\n",
    "data = imp_mean.transform(data)\n",
    "data = pd.DataFrame(data=data, columns=col_names)"
   ]
  },
  {
   "cell_type": "code",
   "execution_count": 49,
   "metadata": {},
   "outputs": [],
   "source": [
    "att_names = col_names[:-1]\n",
    "Y = (data['Class']-2)/2\n",
    "X = data.drop(['Class'], axis = 1)"
   ]
  },
  {
   "cell_type": "code",
   "execution_count": 50,
   "metadata": {},
   "outputs": [],
   "source": [
    "from sklearn.model_selection import train_test_split\n",
    "TrainX, TestX, TrainY, TestY = train_test_split(X, Y, test_size = 0.3)"
   ]
  },
  {
   "cell_type": "code",
   "execution_count": 51,
   "metadata": {},
   "outputs": [
    {
     "name": "stdout",
     "output_type": "stream",
     "text": [
      "Cross Val Accuracy: 0.65 (+/- 0.01)\n"
     ]
    }
   ],
   "source": [
    "from sklearn.linear_model import LogisticRegression\n",
    "from sklearn.metrics import f1_score, accuracy_score\n",
    "logReg_orig = LogisticRegression(C=10000, max_iter=100, solver='liblinear')\n",
    "scores = model_selection.cross_val_score(logReg_orig, TrainX, TrainY, cv=10)\n",
    "print(\"Cross Val Accuracy: %0.2f (+/- %0.2f)\" % (scores.mean(), scores.std() * 2))"
   ]
  },
  {
   "cell_type": "code",
   "execution_count": 52,
   "metadata": {},
   "outputs": [
    {
     "data": {
      "image/png": "[encoded data removed]",
      "text/plain": [
       "<Figure size 576x576 with 1 Axes>"
      ]
     },
     "metadata": {},
     "output_type": "display_data"
    }
   ],
   "source": [
    "from sklearn.feature_selection import SelectKBest\n",
    "from sklearn.feature_selection import chi2, f_classif\n",
    "\n",
    "featureSelector = SelectKBest(score_func=f_classif, k=6).fit(TrainX,TrainY)\n",
    "\n",
    "plt.figure(figsize=(8,8))\n",
    "scores = featureSelector.scores_\n",
    "plt.xticks(rotation='vertical')\n",
    "plt.barh(att_names, scores, )\n",
    "\n",
    "TrainX_new = featureSelector.transform(TrainX)\n",
    "TestX_new = featureSelector.transform(TestX)"
   ]
  },
  {
   "cell_type": "code",
   "execution_count": null,
   "metadata": {},
   "outputs": [],
   "source": [
    "from sklearn.feature_selection import RFE\n",
    "model = LogisticRegression(C=10000, max_iter=100, solver='liblinear')\n",
    "rfe = RFE(model, 6).fit(TrainX, TrainY)\n",
    "print(\"Num Features: %s\" % (rfe.n_features_))\n",
    "sel_inx = np.ix_(rfe.support_)[0].tolist()\n",
    "print(\"Selected Features: %s\" % [att_names[i] for i in sel_inx])\n",
    "\n",
    "TrainX_new = rfe.transform(TrainX)\n",
    "TestX_new = rfe.transform(TestX)"
   ]
  },
  {
   "cell_type": "code",
   "execution_count": null,
   "metadata": {},
   "outputs": [],
   "source": [
    "from sklearn.decomposition import PCA\n",
    "components = 10\n",
    "pca = PCA(n_components=components).fit(TrainX)\n",
    "\n",
    "print(pca.explained_variance_ratio_)\n",
    "plt.bar(np.arange(1, components+1), pca.explained_variance_ratio_)\n",
    "plt.ylabel(\"Explained Variance Ratio\")\n",
    "plt.xlabel(\"Feature\")\n",
    "plt.show()"
   ]
  },
  {
   "cell_type": "code",
   "execution_count": 53,
   "metadata": {},
   "outputs": [],
   "source": [
    "from sklearn.decomposition import PCA\n",
    "components = 2\n",
    "pca = PCA(n_components=components).fit(TrainX)\n",
    "TrainX_new = pca.transform(TrainX)\n",
    "TestX_new = pca.transform(TestX)"
   ]
  },
  {
   "cell_type": "code",
   "execution_count": 54,
   "metadata": {},
   "outputs": [
    {
     "data": {
      "image/png": "[encoded data removed]",
      "text/plain": [
       "<Figure size 432x288 with 1 Axes>"
      ]
     },
     "metadata": {},
     "output_type": "display_data"
    }
   ],
   "source": [
    "plus = TrainY == 1\n",
    "X_plus = TrainX_new[plus,0]\n",
    "X_minus = TrainX_new[~plus,0]\n",
    "bins = np.linspace(-5, 7.5, 100)\n",
    "plt.hist(X_plus, bins, alpha=0.5, label='benign')\n",
    "plt.hist(X_minus, bins, alpha=0.5, label='malignant')\n",
    "plt.legend(loc='upper right')\n",
    "plt.show()"
   ]
  },
  {
   "cell_type": "code",
   "execution_count": null,
   "metadata": {},
   "outputs": [],
   "source": []
  }
 ],
 "metadata": {
  "kernelspec": {
   "display_name": "conda_python3",
   "language": "python",
   "name": "conda_python3"
  },
  "language_info": {
   "codemirror_mode": {
    "name": "ipython",
    "version": 3
   },
   "file_extension": ".py",
   "mimetype": "text/x-python",
   "name": "python",
   "nbconvert_exporter": "python",
   "pygments_lexer": "ipython3",
   "version": "3.6.5"
  }
 },
 "nbformat": 4,
 "nbformat_minor": 4
}
